{
 "cells": [
  {
   "cell_type": "markdown",
   "metadata": {},
   "source": [
    "# Evidencia Final: Herramientas Computacionales\n",
    "## Miembros del equipo:\n",
    "- Vera Sofía Acevedo Gómez  A01747156\n",
    "- Yael Michel García López  A01750911"
   ]
  },
  {
   "cell_type": "code",
   "execution_count": 1,
   "metadata": {},
   "outputs": [],
   "source": [
    "# Importar librerías\n",
    "import pandas as pd\n",
    "import seaborn as sns\n",
    "import matplotlib.pyplot as plt"
   ]
  },
  {
   "cell_type": "code",
   "execution_count": 2,
   "metadata": {},
   "outputs": [],
   "source": [
    "# Leer el archivo\n",
    "df = pd.read_csv(\"unis.csv\")"
   ]
  },
  {
   "cell_type": "markdown",
   "metadata": {},
   "source": [
    "## Exploración Inicial\n",
    "\n",
    "Hallazgos:\n",
    "- 2341 registros iniciales\n",
    "- 12 columnas iniciales\n",
    "- \"No of student\" declarada como object (debería ser numérico)\n",
    "- \"International Student\" declarada como object (debería ser numérico)\n",
    "- \"OverAll Score\" declarada como object (debería ser numérico)\n",
    "- \"Female:Male Ratio\" seclarada como object (debería separar los valores y declararlos numéricos)\n",
    "- Universidades sin \"Rank\"\n",
    "- Registros con valores nulos"
   ]
  },
  {
   "cell_type": "code",
   "execution_count": 62,
   "metadata": {},
   "outputs": [
    {
     "name": "stdout",
     "output_type": "stream",
     "text": [
      "<class 'pandas.core.frame.DataFrame'>\n",
      "Index: 1556 entries, 0 to 1696\n",
      "Data columns (total 14 columns):\n",
      " #   Column                            Non-Null Count  Dtype  \n",
      "---  ------                            --------------  -----  \n",
      " 0   University Rank                   1556 non-null   int64  \n",
      " 1   Name of University                1556 non-null   object \n",
      " 2   Location                          1556 non-null   object \n",
      " 3   No of student                     1556 non-null   int64  \n",
      " 4   No of student per staff           1556 non-null   float64\n",
      " 5   International Student Percentage  1555 non-null   float64\n",
      " 6   OverAll Score                     1556 non-null   object \n",
      " 7   Teaching Score                    1556 non-null   float64\n",
      " 8   Research Score                    1556 non-null   float64\n",
      " 9   Citations Score                   1556 non-null   float64\n",
      " 10  Industry Income Score             1556 non-null   float64\n",
      " 11  International Outlook Score       1556 non-null   float64\n",
      " 12  Female Students Percentage        1556 non-null   float64\n",
      " 13  Male Students Percentage          1556 non-null   float64\n",
      "dtypes: float64(9), int64(2), object(3)\n",
      "memory usage: 182.3+ KB\n"
     ]
    }
   ],
   "source": [
    "# Obtención de información general\n",
    "df.info()\n",
    "\n",
    "# 2341 registros iniciales\n",
    "# 12 columnas iniciales"
   ]
  },
  {
   "cell_type": "code",
   "execution_count": 63,
   "metadata": {},
   "outputs": [
    {
     "data": {
      "text/html": [
       "<div>\n",
       "<style scoped>\n",
       "    .dataframe tbody tr th:only-of-type {\n",
       "        vertical-align: middle;\n",
       "    }\n",
       "\n",
       "    .dataframe tbody tr th {\n",
       "        vertical-align: top;\n",
       "    }\n",
       "\n",
       "    .dataframe thead th {\n",
       "        text-align: right;\n",
       "    }\n",
       "</style>\n",
       "<table border=\"1\" class=\"dataframe\">\n",
       "  <thead>\n",
       "    <tr style=\"text-align: right;\">\n",
       "      <th></th>\n",
       "      <th>University Rank</th>\n",
       "      <th>Name of University</th>\n",
       "      <th>Location</th>\n",
       "      <th>No of student</th>\n",
       "      <th>No of student per staff</th>\n",
       "      <th>International Student Percentage</th>\n",
       "      <th>OverAll Score</th>\n",
       "      <th>Teaching Score</th>\n",
       "      <th>Research Score</th>\n",
       "      <th>Citations Score</th>\n",
       "      <th>Industry Income Score</th>\n",
       "      <th>International Outlook Score</th>\n",
       "      <th>Female Students Percentage</th>\n",
       "      <th>Male Students Percentage</th>\n",
       "    </tr>\n",
       "  </thead>\n",
       "  <tbody>\n",
       "    <tr>\n",
       "      <th>0</th>\n",
       "      <td>1</td>\n",
       "      <td>University of Oxford</td>\n",
       "      <td>United Kingdom</td>\n",
       "      <td>20965</td>\n",
       "      <td>10.6</td>\n",
       "      <td>42.0</td>\n",
       "      <td>96.4</td>\n",
       "      <td>92.3</td>\n",
       "      <td>99.7</td>\n",
       "      <td>99.0</td>\n",
       "      <td>74.9</td>\n",
       "      <td>96.2</td>\n",
       "      <td>48.0</td>\n",
       "      <td>52.0</td>\n",
       "    </tr>\n",
       "  </tbody>\n",
       "</table>\n",
       "</div>"
      ],
      "text/plain": [
       "   University Rank    Name of University        Location  No of student  \\\n",
       "0                1  University of Oxford  United Kingdom          20965   \n",
       "\n",
       "   No of student per staff  International Student Percentage OverAll Score  \\\n",
       "0                     10.6                              42.0          96.4   \n",
       "\n",
       "   Teaching Score  Research Score  Citations Score  Industry Income Score  \\\n",
       "0            92.3            99.7             99.0                   74.9   \n",
       "\n",
       "   International Outlook Score  Female Students Percentage  \\\n",
       "0                         96.2                        48.0   \n",
       "\n",
       "   Male Students Percentage  \n",
       "0                      52.0  "
      ]
     },
     "execution_count": 63,
     "metadata": {},
     "output_type": "execute_result"
    }
   ],
   "source": [
    "df.head(1)\n",
    "\n",
    "# \"No of student\" declarada como object (debería ser numérico)\n",
    "# \"International Student\" declarada como object (debería ser numérico)\n",
    "# \"OverAll Score\" declarada como object (debería ser numérico)\n",
    "# \"Female:Male Ratio\" seclarada como object (debería separar los valores y declararlos numéricos)\n",
    "# Duplicidad de registros"
   ]
  },
  {
   "cell_type": "code",
   "execution_count": 9,
   "metadata": {},
   "outputs": [
    {
     "data": {
      "text/html": [
       "<div>\n",
       "<style scoped>\n",
       "    .dataframe tbody tr th:only-of-type {\n",
       "        vertical-align: middle;\n",
       "    }\n",
       "\n",
       "    .dataframe tbody tr th {\n",
       "        vertical-align: top;\n",
       "    }\n",
       "\n",
       "    .dataframe thead th {\n",
       "        text-align: right;\n",
       "    }\n",
       "</style>\n",
       "<table border=\"1\" class=\"dataframe\">\n",
       "  <thead>\n",
       "    <tr style=\"text-align: right;\">\n",
       "      <th></th>\n",
       "      <th>University Rank</th>\n",
       "      <th>Name of University</th>\n",
       "      <th>Location</th>\n",
       "      <th>No of student</th>\n",
       "      <th>No of student per staff</th>\n",
       "      <th>International Student</th>\n",
       "      <th>Female:Male Ratio</th>\n",
       "      <th>OverAll Score</th>\n",
       "      <th>Teaching Score</th>\n",
       "      <th>Research Score</th>\n",
       "      <th>Citations Score</th>\n",
       "      <th>Industry Income Score</th>\n",
       "      <th>International Outlook Score</th>\n",
       "    </tr>\n",
       "  </thead>\n",
       "  <tbody>\n",
       "  </tbody>\n",
       "</table>\n",
       "</div>"
      ],
      "text/plain": [
       "Empty DataFrame\n",
       "Columns: [University Rank, Name of University, Location, No of student, No of student per staff, International Student, Female:Male Ratio, OverAll Score, Teaching Score, Research Score, Citations Score, Industry Income Score, International Outlook Score]\n",
       "Index: []"
      ]
     },
     "execution_count": 9,
     "metadata": {},
     "output_type": "execute_result"
    }
   ],
   "source": [
    "# Verificar duplicados\n",
    "df[df.duplicated()]\n",
    "\n",
    "# Duplicidad de registros"
   ]
  },
  {
   "cell_type": "markdown",
   "metadata": {},
   "source": [
    "## Limpieza de datos"
   ]
  },
  {
   "cell_type": "code",
   "execution_count": 8,
   "metadata": {},
   "outputs": [],
   "source": [
    "# Eliminar duplicados\n",
    "df = df.drop_duplicates()"
   ]
  },
  {
   "cell_type": "code",
   "execution_count": 28,
   "metadata": {},
   "outputs": [
    {
     "data": {
      "text/plain": [
       "count                                    2233\n",
       "unique                                   2233\n",
       "top       Xi’an Jiaotong-Liverpool University\n",
       "freq                                        1\n",
       "Name: Name of University, dtype: object"
      ]
     },
     "execution_count": 28,
     "metadata": {},
     "output_type": "execute_result"
    }
   ],
   "source": [
    "# Verificar duplicidad en \"Name of University\"\n",
    "df[\"Name of University\"].describe()\n",
    "\n",
    "# No hay duplicados"
   ]
  },
  {
   "cell_type": "code",
   "execution_count": 57,
   "metadata": {},
   "outputs": [
    {
     "data": {
      "text/plain": [
       "University Rank                0\n",
       "Name of University             0\n",
       "Location                       0\n",
       "No of student                  0\n",
       "No of student per staff        0\n",
       "International Student          0\n",
       "OverAll Score                  0\n",
       "Teaching Score                 0\n",
       "Research Score                 0\n",
       "Citations Score                0\n",
       "Industry Income Score          0\n",
       "International Outlook Score    0\n",
       "Female Students Percentage     0\n",
       "Male Students Percentage       0\n",
       "dtype: int64"
      ]
     },
     "execution_count": 57,
     "metadata": {},
     "output_type": "execute_result"
    }
   ],
   "source": [
    "# Verificar nulos\n",
    "df.isna().sum()"
   ]
  },
  {
   "cell_type": "code",
   "execution_count": 12,
   "metadata": {},
   "outputs": [],
   "source": [
    "# Rellenar \"University Rank\" en orden numérico\n",
    "df['University Rank'] = range(1, len(df) + 1)"
   ]
  },
  {
   "cell_type": "code",
   "execution_count": 37,
   "metadata": {},
   "outputs": [],
   "source": [
    "# Eliminar registros nulos de \"Name of University\" ya que es una variable importante\n",
    "df = df.dropna(subset=['Name of University'])"
   ]
  },
  {
   "cell_type": "code",
   "execution_count": 44,
   "metadata": {},
   "outputs": [],
   "source": [
    "# Eliminar registros nulos de \"Location\" ya que es una variable importante\n",
    "df = df.dropna(subset=['Location'])"
   ]
  },
  {
   "cell_type": "code",
   "execution_count": 46,
   "metadata": {},
   "outputs": [],
   "source": [
    "# Eliminar registros nulos de \"OverAll Score\" ya que es una variable importante\n",
    "df = df.dropna(subset=['OverAll Score'])"
   ]
  },
  {
   "cell_type": "code",
   "execution_count": 49,
   "metadata": {},
   "outputs": [],
   "source": [
    "# División de \"Female:Male Ratio\"\n",
    "# 1. Dividir la columna en dos y asignar los resultados a nuevas columnas 'Female Students Percentage' y 'Male Students Percentage'\n",
    "df[['Female Students Percentage', 'Male Students Percentage']] = df['Female:Male Ratio'].str.split(':', expand=True)\n",
    "\n",
    "# 2. Convertir las nuevas columnas a tipo numérico\n",
    "df['Female Students Percentage'] = pd.to_numeric(df['Female Students Percentage'], errors='coerce')\n",
    "df['Male Students Percentage'] = pd.to_numeric(df['Male Students Percentage'], errors='coerce')\n",
    "\n",
    "# 3. Eliminar columna \"Female:Male Ratio\"\n",
    "df = df.drop(columns=[\"Female:Male Ratio\"])"
   ]
  },
  {
   "cell_type": "markdown",
   "metadata": {},
   "source": [
    "## Analisis de estadística descriptiva para rellenar nulos"
   ]
  },
  {
   "cell_type": "code",
   "execution_count": null,
   "metadata": {},
   "outputs": [],
   "source": [
    "df[\"Female Students Percentage\"].plot.box()\n"
   ]
  },
  {
   "cell_type": "code",
   "execution_count": null,
   "metadata": {},
   "outputs": [],
   "source": [
    "df[\"Female Students Percentage\"].plot.hist()\n"
   ]
  },
  {
   "cell_type": "code",
   "execution_count": null,
   "metadata": {},
   "outputs": [],
   "source": [
    "df[\"Female Students Percentage\"].plot.kde()\n"
   ]
  },
  {
   "cell_type": "code",
   "execution_count": null,
   "metadata": {},
   "outputs": [],
   "source": [
    "df[\"Male Students Percentage\"].plot.box()"
   ]
  },
  {
   "cell_type": "code",
   "execution_count": null,
   "metadata": {},
   "outputs": [],
   "source": [
    "df[\"Male Students Percentage\"].plot.hist()"
   ]
  },
  {
   "cell_type": "code",
   "execution_count": null,
   "metadata": {},
   "outputs": [],
   "source": [
    "df[\"Male Students Percentage\"].plot.kde()"
   ]
  },
  {
   "cell_type": "code",
   "execution_count": 56,
   "metadata": {},
   "outputs": [],
   "source": [
    "# Dado que hay muchos valores atípicos y se encuentran muy alejados del centro, se optó por usar la mediana\n",
    "\n",
    "df = df.fillna({\n",
    "    \"Female Students Percentage\": df[\"Female Students Percentage\"].median(),\n",
    "    \"Male Students Percentage\": df[\"Male Students Percentage\"].median()\n",
    "})"
   ]
  },
  {
   "cell_type": "code",
   "execution_count": null,
   "metadata": {},
   "outputs": [],
   "source": [
    "# Verificar nulos\n",
    "df.isna().sum()"
   ]
  },
  {
   "cell_type": "markdown",
   "metadata": {},
   "source": [
    "## Conversión de tipo de dato (object --> numérico)"
   ]
  },
  {
   "cell_type": "code",
   "execution_count": 59,
   "metadata": {},
   "outputs": [],
   "source": [
    "# \"No of student\" (object --> numérico)\n",
    "df[\"No of student\"] = pd.to_numeric(df[\"No of student\"].str.replace(\",\", \"\"))"
   ]
  },
  {
   "cell_type": "code",
   "execution_count": 61,
   "metadata": {},
   "outputs": [],
   "source": [
    "# \"International Student\" (object --> numérico)\n",
    "\n",
    "# 1. Renombrar columna\n",
    "df.rename(columns={'International Student': 'International Student Percentage'}, inplace=True)\n",
    "\n",
    "# 2. Pasar a numérico\n",
    "df['International Student Percentage'] = pd.to_numeric(df['International Student Percentage'].str.replace('%', ''))"
   ]
  },
  {
   "cell_type": "code",
   "execution_count": 64,
   "metadata": {},
   "outputs": [],
   "source": [
    "# \"OverAll Score\" (object --> numérico)\n",
    "\n",
    "# Función para convertir a numérico\n",
    "def convert_overall_score(score):\n",
    "    if '–' in score:  # Si hay un rango\n",
    "        low, high = map(float, score.split('–'))  # Separa los valores y convierte a float\n",
    "        return (low + high) / 2  # Devuelve el promedio\n",
    "    return float(score)  # Si es un solo valor, lo convierte a float\n",
    "\n",
    "# Aplicar la función a \"OverAll Score\" y reemplazar los valores\n",
    "df['OverAll Score'] = df['OverAll Score'].apply(convert_overall_score)\n",
    "\n",
    "# Conviertir la columna a tipo numérico\n",
    "df['OverAll Score'] = pd.to_numeric(df['OverAll Score'])"
   ]
  },
  {
   "cell_type": "markdown",
   "metadata": {},
   "source": [
    "## Creación de archivo csv limpio"
   ]
  },
  {
   "cell_type": "code",
   "execution_count": 65,
   "metadata": {},
   "outputs": [],
   "source": [
    "# Guardamos un nuevo archivo con los cambios hechos\n",
    "df.to_csv(\"unis_clean.csv\", index=False)"
   ]
  }
 ],
 "metadata": {
  "kernelspec": {
   "display_name": ".venv",
   "language": "python",
   "name": "python3"
  },
  "language_info": {
   "codemirror_mode": {
    "name": "ipython",
    "version": 3
   },
   "file_extension": ".py",
   "mimetype": "text/x-python",
   "name": "python",
   "nbconvert_exporter": "python",
   "pygments_lexer": "ipython3",
   "version": "3.11.5"
  }
 },
 "nbformat": 4,
 "nbformat_minor": 2
}
