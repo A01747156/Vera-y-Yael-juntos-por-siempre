{
 "cells": [
  {
   "cell_type": "markdown",
   "metadata": {},
   "source": [
    "# Evidencia Final: Herramientas Computacionales - Limpieza de datos\n",
    "## Miembros del equipo:\n",
    "- Vera Sofía Acevedo Gómez  A01747156\n",
    "- Yael Michel García López  A01750911"
   ]
  },
  {
   "cell_type": "code",
   "execution_count": 2,
   "metadata": {},
   "outputs": [],
   "source": [
    "# Importar librerías\n",
    "import pandas as pd"
   ]
  },
  {
   "cell_type": "code",
   "execution_count": 3,
   "metadata": {},
   "outputs": [],
   "source": [
    "# Leer el archivo\n",
    "df = pd.read_csv(\"unis.csv\")"
   ]
  },
  {
   "cell_type": "markdown",
   "metadata": {},
   "source": [
    "## Exploración Inicial\n",
    "\n",
    "Hallazgos:\n",
    "- 2341 registros iniciales\n",
    "- 12 columnas iniciales\n",
    "- \"No of student\" declarada como object (debería ser numérico)\n",
    "- \"International Student\" declarada como object (debería ser numérico)\n",
    "- \"OverAll Score\" declarada como object (debería ser numérico)\n",
    "- \"Female:Male Ratio\" seclarada como object (debería separar los valores y declararlos numéricos)\n",
    "- Universidades sin \"Rank\"\n",
    "- Registros con valores nulos"
   ]
  },
  {
   "cell_type": "code",
   "execution_count": 4,
   "metadata": {},
   "outputs": [
    {
     "name": "stdout",
     "output_type": "stream",
     "text": [
      "<class 'pandas.core.frame.DataFrame'>\n",
      "RangeIndex: 2341 entries, 0 to 2340\n",
      "Data columns (total 13 columns):\n",
      " #   Column                       Non-Null Count  Dtype  \n",
      "---  ------                       --------------  -----  \n",
      " 0   University Rank              2341 non-null   object \n",
      " 1   Name of University           2233 non-null   object \n",
      " 2   Location                     2057 non-null   object \n",
      " 3   No of student                2209 non-null   object \n",
      " 4   No of student per staff      2208 non-null   float64\n",
      " 5   International Student        2209 non-null   object \n",
      " 6   Female:Male Ratio            2128 non-null   object \n",
      " 7   OverAll Score                1799 non-null   object \n",
      " 8   Teaching Score               1799 non-null   float64\n",
      " 9   Research Score               1799 non-null   float64\n",
      " 10  Citations Score              1799 non-null   float64\n",
      " 11  Industry Income Score        1799 non-null   float64\n",
      " 12  International Outlook Score  1799 non-null   float64\n",
      "dtypes: float64(6), object(7)\n",
      "memory usage: 237.9+ KB\n"
     ]
    }
   ],
   "source": [
    "# Obtención de información general\n",
    "df.info()\n",
    "\n",
    "# 2341 registros iniciales\n",
    "# 12 columnas iniciales"
   ]
  },
  {
   "cell_type": "code",
   "execution_count": 19,
   "metadata": {},
   "outputs": [
    {
     "data": {
      "text/html": [
       "<div>\n",
       "<style scoped>\n",
       "    .dataframe tbody tr th:only-of-type {\n",
       "        vertical-align: middle;\n",
       "    }\n",
       "\n",
       "    .dataframe tbody tr th {\n",
       "        vertical-align: top;\n",
       "    }\n",
       "\n",
       "    .dataframe thead th {\n",
       "        text-align: right;\n",
       "    }\n",
       "</style>\n",
       "<table border=\"1\" class=\"dataframe\">\n",
       "  <thead>\n",
       "    <tr style=\"text-align: right;\">\n",
       "      <th></th>\n",
       "      <th>University Rank</th>\n",
       "      <th>Name of University</th>\n",
       "      <th>Location</th>\n",
       "      <th>No of student</th>\n",
       "      <th>No of student per staff</th>\n",
       "      <th>International Student</th>\n",
       "      <th>OverAll Score</th>\n",
       "      <th>Teaching Score</th>\n",
       "      <th>Research Score</th>\n",
       "      <th>Citations Score</th>\n",
       "      <th>Industry Income Score</th>\n",
       "      <th>International Outlook Score</th>\n",
       "      <th>Female Students Percentage</th>\n",
       "      <th>Male Students Percentage</th>\n",
       "    </tr>\n",
       "  </thead>\n",
       "  <tbody>\n",
       "    <tr>\n",
       "      <th>0</th>\n",
       "      <td>1</td>\n",
       "      <td>University of Oxford</td>\n",
       "      <td>United Kingdom</td>\n",
       "      <td>20,965</td>\n",
       "      <td>10.6</td>\n",
       "      <td>42%</td>\n",
       "      <td>96.4</td>\n",
       "      <td>92.3</td>\n",
       "      <td>99.7</td>\n",
       "      <td>99.0</td>\n",
       "      <td>74.9</td>\n",
       "      <td>96.2</td>\n",
       "      <td>48.0</td>\n",
       "      <td>52.0</td>\n",
       "    </tr>\n",
       "    <tr>\n",
       "      <th>1</th>\n",
       "      <td>2</td>\n",
       "      <td>Harvard University</td>\n",
       "      <td>United States</td>\n",
       "      <td>21,887</td>\n",
       "      <td>9.6</td>\n",
       "      <td>25%</td>\n",
       "      <td>95.2</td>\n",
       "      <td>94.8</td>\n",
       "      <td>99.0</td>\n",
       "      <td>99.3</td>\n",
       "      <td>49.5</td>\n",
       "      <td>80.5</td>\n",
       "      <td>50.0</td>\n",
       "      <td>50.0</td>\n",
       "    </tr>\n",
       "    <tr>\n",
       "      <th>2</th>\n",
       "      <td>3</td>\n",
       "      <td>University of Cambridge</td>\n",
       "      <td>United Kingdom</td>\n",
       "      <td>20,185</td>\n",
       "      <td>11.3</td>\n",
       "      <td>39%</td>\n",
       "      <td>94.8</td>\n",
       "      <td>90.9</td>\n",
       "      <td>99.5</td>\n",
       "      <td>97.0</td>\n",
       "      <td>54.2</td>\n",
       "      <td>95.8</td>\n",
       "      <td>47.0</td>\n",
       "      <td>53.0</td>\n",
       "    </tr>\n",
       "    <tr>\n",
       "      <th>3</th>\n",
       "      <td>4</td>\n",
       "      <td>Stanford University</td>\n",
       "      <td>United States</td>\n",
       "      <td>16,164</td>\n",
       "      <td>7.1</td>\n",
       "      <td>24%</td>\n",
       "      <td>94.8</td>\n",
       "      <td>94.2</td>\n",
       "      <td>96.7</td>\n",
       "      <td>99.8</td>\n",
       "      <td>65.0</td>\n",
       "      <td>79.8</td>\n",
       "      <td>46.0</td>\n",
       "      <td>54.0</td>\n",
       "    </tr>\n",
       "    <tr>\n",
       "      <th>4</th>\n",
       "      <td>5</td>\n",
       "      <td>Massachusetts Institute of Technology</td>\n",
       "      <td>United States</td>\n",
       "      <td>11,415</td>\n",
       "      <td>8.2</td>\n",
       "      <td>33%</td>\n",
       "      <td>94.2</td>\n",
       "      <td>90.7</td>\n",
       "      <td>93.6</td>\n",
       "      <td>99.8</td>\n",
       "      <td>90.9</td>\n",
       "      <td>89.3</td>\n",
       "      <td>40.0</td>\n",
       "      <td>60.0</td>\n",
       "    </tr>\n",
       "  </tbody>\n",
       "</table>\n",
       "</div>"
      ],
      "text/plain": [
       "   University Rank                     Name of University        Location  \\\n",
       "0                1                   University of Oxford  United Kingdom   \n",
       "1                2                     Harvard University   United States   \n",
       "2                3                University of Cambridge  United Kingdom   \n",
       "3                4                    Stanford University   United States   \n",
       "4                5  Massachusetts Institute of Technology   United States   \n",
       "\n",
       "  No of student  No of student per staff International Student OverAll Score  \\\n",
       "0        20,965                     10.6                   42%          96.4   \n",
       "1        21,887                      9.6                   25%          95.2   \n",
       "2        20,185                     11.3                   39%          94.8   \n",
       "3        16,164                      7.1                   24%          94.8   \n",
       "4        11,415                      8.2                   33%          94.2   \n",
       "\n",
       "   Teaching Score  Research Score  Citations Score  Industry Income Score  \\\n",
       "0            92.3            99.7             99.0                   74.9   \n",
       "1            94.8            99.0             99.3                   49.5   \n",
       "2            90.9            99.5             97.0                   54.2   \n",
       "3            94.2            96.7             99.8                   65.0   \n",
       "4            90.7            93.6             99.8                   90.9   \n",
       "\n",
       "   International Outlook Score  Female Students Percentage  \\\n",
       "0                         96.2                        48.0   \n",
       "1                         80.5                        50.0   \n",
       "2                         95.8                        47.0   \n",
       "3                         79.8                        46.0   \n",
       "4                         89.3                        40.0   \n",
       "\n",
       "   Male Students Percentage  \n",
       "0                      52.0  \n",
       "1                      50.0  \n",
       "2                      53.0  \n",
       "3                      54.0  \n",
       "4                      60.0  "
      ]
     },
     "execution_count": 19,
     "metadata": {},
     "output_type": "execute_result"
    }
   ],
   "source": [
    "df.head(5)\n",
    "\n",
    "# \"No of student\" declarada como object (debería ser numérico)\n",
    "# \"International Student\" declarada como object (debería ser numérico)\n",
    "# \"OverAll Score\" declarada como object (debería ser numérico)\n",
    "# \"Female:Male Ratio\" seclarada como object (debería separar los valores y declararlos numéricos)\n",
    "# Duplicidad de registros"
   ]
  },
  {
   "cell_type": "code",
   "execution_count": 8,
   "metadata": {},
   "outputs": [
    {
     "data": {
      "text/html": [
       "<div>\n",
       "<style scoped>\n",
       "    .dataframe tbody tr th:only-of-type {\n",
       "        vertical-align: middle;\n",
       "    }\n",
       "\n",
       "    .dataframe tbody tr th {\n",
       "        vertical-align: top;\n",
       "    }\n",
       "\n",
       "    .dataframe thead th {\n",
       "        text-align: right;\n",
       "    }\n",
       "</style>\n",
       "<table border=\"1\" class=\"dataframe\">\n",
       "  <thead>\n",
       "    <tr style=\"text-align: right;\">\n",
       "      <th></th>\n",
       "      <th>University Rank</th>\n",
       "      <th>Name of University</th>\n",
       "      <th>Location</th>\n",
       "      <th>No of student</th>\n",
       "      <th>No of student per staff</th>\n",
       "      <th>International Student</th>\n",
       "      <th>Female:Male Ratio</th>\n",
       "      <th>OverAll Score</th>\n",
       "      <th>Teaching Score</th>\n",
       "      <th>Research Score</th>\n",
       "      <th>Citations Score</th>\n",
       "      <th>Industry Income Score</th>\n",
       "      <th>International Outlook Score</th>\n",
       "    </tr>\n",
       "  </thead>\n",
       "  <tbody>\n",
       "  </tbody>\n",
       "</table>\n",
       "</div>"
      ],
      "text/plain": [
       "Empty DataFrame\n",
       "Columns: [University Rank, Name of University, Location, No of student, No of student per staff, International Student, Female:Male Ratio, OverAll Score, Teaching Score, Research Score, Citations Score, Industry Income Score, International Outlook Score]\n",
       "Index: []"
      ]
     },
     "execution_count": 8,
     "metadata": {},
     "output_type": "execute_result"
    }
   ],
   "source": [
    "# Verificar duplicados\n",
    "df[df.duplicated()]\n",
    "\n",
    "# Duplicidad de registros"
   ]
  },
  {
   "cell_type": "markdown",
   "metadata": {},
   "source": [
    "## Limpieza de datos"
   ]
  },
  {
   "cell_type": "code",
   "execution_count": 7,
   "metadata": {},
   "outputs": [],
   "source": [
    "# Eliminar duplicados\n",
    "df = df.drop_duplicates()"
   ]
  },
  {
   "cell_type": "code",
   "execution_count": 9,
   "metadata": {},
   "outputs": [
    {
     "data": {
      "text/plain": [
       "count                                    2233\n",
       "unique                                   2233\n",
       "top       Xi’an Jiaotong-Liverpool University\n",
       "freq                                        1\n",
       "Name: Name of University, dtype: object"
      ]
     },
     "execution_count": 9,
     "metadata": {},
     "output_type": "execute_result"
    }
   ],
   "source": [
    "# Verificar duplicidad en \"Name of University\"\n",
    "df[\"Name of University\"].describe()\n",
    "\n",
    "# No hay duplicados"
   ]
  },
  {
   "cell_type": "code",
   "execution_count": 20,
   "metadata": {},
   "outputs": [
    {
     "data": {
      "text/plain": [
       "University Rank                 0\n",
       "Name of University              0\n",
       "Location                        0\n",
       "No of student                   0\n",
       "No of student per staff         0\n",
       "International Student           0\n",
       "OverAll Score                   0\n",
       "Teaching Score                  0\n",
       "Research Score                  0\n",
       "Citations Score                 0\n",
       "Industry Income Score           0\n",
       "International Outlook Score     0\n",
       "Female Students Percentage     61\n",
       "Male Students Percentage       61\n",
       "dtype: int64"
      ]
     },
     "execution_count": 20,
     "metadata": {},
     "output_type": "execute_result"
    }
   ],
   "source": [
    "# Verificar nulos\n",
    "df.isna().sum()"
   ]
  },
  {
   "cell_type": "code",
   "execution_count": 11,
   "metadata": {},
   "outputs": [],
   "source": [
    "# Rellenar \"University Rank\" en orden numérico\n",
    "df['University Rank'] = range(1, len(df) + 1)"
   ]
  },
  {
   "cell_type": "code",
   "execution_count": 12,
   "metadata": {},
   "outputs": [],
   "source": [
    "# Eliminar registros nulos de \"Name of University\" ya que es una variable importante\n",
    "df = df.dropna(subset=['Name of University'])"
   ]
  },
  {
   "cell_type": "code",
   "execution_count": 14,
   "metadata": {},
   "outputs": [],
   "source": [
    "# Eliminar registros nulos de \"Location\" ya que es una variable importante\n",
    "df = df.dropna(subset=['Location'])"
   ]
  },
  {
   "cell_type": "code",
   "execution_count": 16,
   "metadata": {},
   "outputs": [],
   "source": [
    "# Eliminar registros nulos de \"OverAll Score\" ya que es una variable importante\n",
    "df = df.dropna(subset=['OverAll Score'])"
   ]
  },
  {
   "cell_type": "code",
   "execution_count": 18,
   "metadata": {},
   "outputs": [],
   "source": [
    "# División de \"Female:Male Ratio\"\n",
    "# 1. Dividir la columna en dos y asignar los resultados a nuevas columnas 'Female Students Percentage' y 'Male Students Percentage'\n",
    "df[['Female Students Percentage', 'Male Students Percentage']] = df['Female:Male Ratio'].str.split(':', expand=True)\n",
    "\n",
    "# 2. Convertir las nuevas columnas a tipo numérico\n",
    "df['Female Students Percentage'] = pd.to_numeric(df['Female Students Percentage'], errors='coerce')\n",
    "df['Male Students Percentage'] = pd.to_numeric(df['Male Students Percentage'], errors='coerce')\n",
    "\n",
    "# 3. Eliminar columna \"Female:Male Ratio\"\n",
    "df = df.drop(columns=[\"Female:Male Ratio\"])"
   ]
  },
  {
   "cell_type": "markdown",
   "metadata": {},
   "source": [
    "## Analisis de estadística descriptiva para rellenar nulos"
   ]
  },
  {
   "cell_type": "code",
   "execution_count": 21,
   "metadata": {},
   "outputs": [
    {
     "data": {
      "text/plain": [
       "<Axes: >"
      ]
     },
     "execution_count": 21,
     "metadata": {},
     "output_type": "execute_result"
    },
    {
     "data": {
      "image/png": "[encoded data removed]",
      "text/plain": [
       "<Figure size 640x480 with 1 Axes>"
      ]
     },
     "metadata": {},
     "output_type": "display_data"
    }
   ],
   "source": [
    "df[\"Female Students Percentage\"].plot.box()\n"
   ]
  },
  {
   "cell_type": "code",
   "execution_count": 22,
   "metadata": {},
   "outputs": [
    {
     "data": {
      "text/plain": [
       "<Axes: ylabel='Frequency'>"
      ]
     },
     "execution_count": 22,
     "metadata": {},
     "output_type": "execute_result"
    },
    {
     "data": {
      "image/png": "[encoded data removed]",
      "text/plain": [
       "<Figure size 640x480 with 1 Axes>"
      ]
     },
     "metadata": {},
     "output_type": "display_data"
    }
   ],
   "source": [
    "df[\"Female Students Percentage\"].plot.hist()\n"
   ]
  },
  {
   "cell_type": "code",
   "execution_count": 23,
   "metadata": {},
   "outputs": [
    {
     "data": {
      "text/plain": [
       "<Axes: ylabel='Density'>"
      ]
     },
     "execution_count": 23,
     "metadata": {},
     "output_type": "execute_result"
    },
    {
     "data": {
      "image/png": "[encoded data removed]",
      "text/plain": [
       "<Figure size 640x480 with 1 Axes>"
      ]
     },
     "metadata": {},
     "output_type": "display_data"
    }
   ],
   "source": [
    "# Estimado de densidad de Kernel\n",
    "df[\"Female Students Percentage\"].plot.kde()\n"
   ]
  },
  {
   "cell_type": "code",
   "execution_count": 24,
   "metadata": {},
   "outputs": [
    {
     "data": {
      "text/plain": [
       "<Axes: >"
      ]
     },
     "execution_count": 24,
     "metadata": {},
     "output_type": "execute_result"
    },
    {
     "data": {
      "image/png": "[encoded data removed]",
      "text/plain": [
       "<Figure size 640x480 with 1 Axes>"
      ]
     },
     "metadata": {},
     "output_type": "display_data"
    }
   ],
   "source": [
    "df[\"Male Students Percentage\"].plot.box()"
   ]
  },
  {
   "cell_type": "code",
   "execution_count": null,
   "metadata": {},
   "outputs": [],
   "source": [
    "df[\"Male Students Percentage\"].plot.hist()"
   ]
  },
  {
   "cell_type": "code",
   "execution_count": null,
   "metadata": {},
   "outputs": [],
   "source": [
    "df[\"Male Students Percentage\"].plot.kde()"
   ]
  },
  {
   "cell_type": "code",
   "execution_count": 25,
   "metadata": {},
   "outputs": [],
   "source": [
    "# Dado que hay muchos valores atípicos y se encuentran muy alejados del centro, se optó por usar la mediana\n",
    "\n",
    "df = df.fillna({\n",
    "    \"Female Students Percentage\": df[\"Female Students Percentage\"].median(),\n",
    "    \"Male Students Percentage\": df[\"Male Students Percentage\"].median()\n",
    "})"
   ]
  },
  {
   "cell_type": "code",
   "execution_count": 26,
   "metadata": {},
   "outputs": [
    {
     "data": {
      "text/plain": [
       "University Rank                0\n",
       "Name of University             0\n",
       "Location                       0\n",
       "No of student                  0\n",
       "No of student per staff        0\n",
       "International Student          0\n",
       "OverAll Score                  0\n",
       "Teaching Score                 0\n",
       "Research Score                 0\n",
       "Citations Score                0\n",
       "Industry Income Score          0\n",
       "International Outlook Score    0\n",
       "Female Students Percentage     0\n",
       "Male Students Percentage       0\n",
       "dtype: int64"
      ]
     },
     "execution_count": 26,
     "metadata": {},
     "output_type": "execute_result"
    }
   ],
   "source": [
    "# Verificar nulos\n",
    "df.isna().sum()"
   ]
  },
  {
   "cell_type": "markdown",
   "metadata": {},
   "source": [
    "## Conversión de tipo de dato (object --> numérico)"
   ]
  },
  {
   "cell_type": "code",
   "execution_count": 28,
   "metadata": {},
   "outputs": [],
   "source": [
    "# \"No of student\" (object --> numérico)\n",
    "df[\"No of student\"] = pd.to_numeric(df[\"No of student\"].str.replace(\",\", \"\"))"
   ]
  },
  {
   "cell_type": "code",
   "execution_count": 27,
   "metadata": {},
   "outputs": [],
   "source": [
    "# \"International Student\" (object --> numérico)\n",
    "\n",
    "# 1. Renombrar columna\n",
    "df.rename(columns={'International Student': 'International Student Percentage'}, inplace=True)\n",
    "\n",
    "# 2. Pasar a numérico\n",
    "df['International Student Percentage'] = pd.to_numeric(df['International Student Percentage'].str.replace('%', ''))"
   ]
  },
  {
   "cell_type": "code",
   "execution_count": 29,
   "metadata": {},
   "outputs": [],
   "source": [
    "# \"OverAll Score\" (object --> numérico)\n",
    "\n",
    "# Función para convertir a numérico\n",
    "def convert_overall_score(score):\n",
    "    if '–' in score:  # Si hay un rango\n",
    "        low, high = map(float, score.split('–'))  # Separa los valores y convierte a float\n",
    "        return (low + high) / 2  # Devuelve el promedio\n",
    "    return float(score)  # Si es un solo valor, lo convierte a float\n",
    "\n",
    "# Aplicar la función a \"OverAll Score\" y reemplazar los valores\n",
    "df['OverAll Score'] = df['OverAll Score'].apply(convert_overall_score)\n",
    "\n",
    "# Conviertir la columna a tipo numérico\n",
    "df['OverAll Score'] = pd.to_numeric(df['OverAll Score'])"
   ]
  },
  {
   "cell_type": "markdown",
   "metadata": {},
   "source": [
    "## Creación de archivo csv limpio"
   ]
  },
  {
   "cell_type": "code",
   "execution_count": 30,
   "metadata": {},
   "outputs": [],
   "source": [
    "# Guardamos un nuevo archivo con los cambios hechos\n",
    "df.to_csv(\"unis_clean.csv\", index=False)"
   ]
  }
 ],
 "metadata": {
  "kernelspec": {
   "display_name": ".venv",
   "language": "python",
   "name": "python3"
  },
  "language_info": {
   "codemirror_mode": {
    "name": "ipython",
    "version": 3
   },
   "file_extension": ".py",
   "mimetype": "text/x-python",
   "name": "python",
   "nbconvert_exporter": "python",
   "pygments_lexer": "ipython3",
   "version": "3.11.5"
  }
 },
 "nbformat": 4,
 "nbformat_minor": 2
}
